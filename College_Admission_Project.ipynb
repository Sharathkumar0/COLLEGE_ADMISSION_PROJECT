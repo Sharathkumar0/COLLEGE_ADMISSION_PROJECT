{
 "cells": [
  {
   "cell_type": "code",
   "execution_count": 35,
   "id": "d4d649bb",
   "metadata": {},
   "outputs": [],
   "source": [
    "import warnings\n",
    "warnings.simplefilter('ignore')"
   ]
  },
  {
   "cell_type": "code",
   "execution_count": 23,
   "id": "e4e35c16",
   "metadata": {},
   "outputs": [],
   "source": [
    "#Importing Required Libraries\n",
    "\n",
    "import numpy as np\n",
    "import pandas as pd\n",
    "import matplotlib.pyplot as plt\n",
    "import seaborn as sns\n",
    "\n",
    "from sklearn.preprocessing import StandardScaler\n",
    "from sklearn.cluster import KMeans"
   ]
  },
  {
   "cell_type": "code",
   "execution_count": 24,
   "id": "32080637",
   "metadata": {},
   "outputs": [],
   "source": [
    "#Importing the dataset\n",
    "data = pd.read_csv('Universities.csv')\n",
    "data = data.iloc[:,1:]"
   ]
  },
  {
   "cell_type": "code",
   "execution_count": 25,
   "id": "8cdbf998",
   "metadata": {},
   "outputs": [],
   "source": [
    "#Normalise the data\n",
    "scale = StandardScaler()\n",
    "data_normalise = scale.fit_transform(data)"
   ]
  },
  {
   "cell_type": "code",
   "execution_count": 37,
   "id": "a7101c1d",
   "metadata": {},
   "outputs": [],
   "source": [
    "#Model Building\n",
    "clusters = KMeans(n_clusters=3)\n",
    "Model = clusters.fit(data_normalise)"
   ]
  },
  {
   "cell_type": "code",
   "execution_count": 38,
   "id": "d128234a",
   "metadata": {},
   "outputs": [],
   "source": [
    "#Group IDs\n",
    "Membership_ID = Model.labels_"
   ]
  },
  {
   "cell_type": "code",
   "execution_count": 39,
   "id": "61a25e41",
   "metadata": {},
   "outputs": [],
   "source": [
    "#Assigning membership_id to dataset\n",
    "data['MembershipID'] = Membership_ID"
   ]
  },
  {
   "cell_type": "code",
   "execution_count": 47,
   "id": "d52705b5",
   "metadata": {},
   "outputs": [],
   "source": [
    "#Grouping membershipID using mean\n",
    "Newdata = round(data.groupby(Membership_ID).mean(),2)\n",
    "Newdata.to_csv('clusters.csv',header=True,index=False)"
   ]
  },
  {
   "cell_type": "code",
   "execution_count": 44,
   "id": "941dd832",
   "metadata": {},
   "outputs": [
    {
     "data": {
      "image/png": "[encoded data removed]",
      "text/plain": [
       "<Figure size 432x288 with 1 Axes>"
      ]
     },
     "metadata": {
      "needs_background": "light"
     },
     "output_type": "display_data"
    }
   ],
   "source": [
    "#Optial value for K\n",
    "SSE = []\n",
    "for i in range(1,11):\n",
    "    clus = KMeans(n_clusters=i)\n",
    "    Mod = clus.fit(data_normalise)\n",
    "    SSE.append(Mod.inertia_)\n",
    "\n",
    "#Plotting the elbow curve\n",
    "plt.plot(range(1,11),SSE)\n",
    "plt.xlabel('No of Clusters')\n",
    "plt.ylabel('SSE')\n",
    "plt.title('Elbow Curve')\n",
    "plt.tight_layout()\n",
    "plt.show()"
   ]
  }
 ],
 "metadata": {
  "kernelspec": {
   "display_name": "Python 3",
   "language": "python",
   "name": "python3"
  },
  "language_info": {
   "codemirror_mode": {
    "name": "ipython",
    "version": 3
   },
   "file_extension": ".py",
   "mimetype": "text/x-python",
   "name": "python",
   "nbconvert_exporter": "python",
   "pygments_lexer": "ipython3",
   "version": "3.8.8"
  }
 },
 "nbformat": 4,
 "nbformat_minor": 5
}
